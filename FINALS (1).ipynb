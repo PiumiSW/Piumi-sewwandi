{
  "metadata": {
    "language_info": {
      "codemirror_mode": {
        "name": "python",
        "version": 3
      },
      "file_extension": ".py",
      "mimetype": "text/x-python",
      "name": "python",
      "nbconvert_exporter": "python",
      "pygments_lexer": "ipython3",
      "version": "3.8"
    },
    "kernelspec": {
      "name": "python",
      "display_name": "Pyolite",
      "language": "python"
    }
  },
  "nbformat_minor": 4,
  "nbformat": 4,
  "cells": [
    {
      "cell_type": "markdown",
      "source": "<H1> My Jupyter Notebook</H1>",
      "metadata": {}
    },
    {
      "cell_type": "markdown",
      "source": "*Jupyter Notebook is a popular open-source web-based application used for interactive data science, scientific computing, and coding. It allows users to create and share documents that contain live code, equations, visualizations, and narrative text.<br>\nThe main advantage of Jupyter Notebook is that it allows users to run and test their code in real-time, making it an ideal tool for data analysis, data visualization, and exploratory research. <br>\nIt provides a simple and intuitive interface for data manipulation, and its ability to display rich media and interactive content such as charts, images, and videos makes it a powerful tool for data communication and presentation.<br>\nIn addition to its popularity in the data science community, Jupyter Notebook is also widely used in education and research, as it allows teachers, researchers, and students to easily collaborate on code and share their work with others.*",
      "metadata": {}
    },
    {
      "cell_type": "markdown",
      "source": "**Data Science Languages**<br>\n\n- Python\n- C++\n- Javascript\n- R\n",
      "metadata": {}
    },
    {
      "cell_type": "markdown",
      "source": "**Data science libaries**<br>\n\n1. Pandas\n2. NumPy\n3. Seaborn\n4. Keras",
      "metadata": {}
    },
    {
      "cell_type": "markdown",
      "source": "import pandas as pd\n\n# create a list of dictionaries containing data for the table\ndata = [{'Name': 'John', 'Age': 30, 'Gender': 'Male'},\n        {'Name': 'Jane', 'Age': 25, 'Gender': 'Female'},\n        {'Name': 'Bob', 'Age': 45, 'Gender': 'Male'}]\n\n# create a DataFrame from the list of dictionaries\ndf = pd.DataFrame(data)\n\n# display the DataFrame as a table\ndf\n",
      "metadata": {}
    },
    {
      "cell_type": "markdown",
      "source": "In the below there's a numerical operation.<br>\n60-30//40<br>\n\nIt's explained as follows<br>\nIn Jupyter Notebook (which uses Python as its programming language), the expression 60-30//40 will be evaluated using Python's operator precedence rules.<br>\n\nIn Python, the operator precedence rules specify the order in which operations are performed in an expression. The highest precedence is given to parentheses, followed by exponentiation, multiplication and division, and then addition and subtraction.<br>\n\nHere, the expression 30//40 will be evaluated first, because the // operator has a higher precedence than the - operator. The // operator performs integer division, which means that it divides the left operand by the right operand and then rounds the result down to the nearest integer.<br>\n\nSince 30 divided by 40 is less than 1, the result of 30//40 will be 0.<br>\n\nThen, the expression 60-0 will be evaluated, because the - operator has a lower precedence than the // operator. The result of this expression is 60, since subtracting 0 from a number does not change the value of that number.<br>\n\nTherefore, the value of the expression 60-30//40 is 60.",
      "metadata": {}
    },
    {
      "cell_type": "code",
      "source": "X=12\nY=587\nZ=6\nprint (X+Y+Z)",
      "metadata": {
        "trusted": true
      },
      "execution_count": 11,
      "outputs": [
        {
          "name": "stdout",
          "text": "605\n",
          "output_type": "stream"
        }
      ]
    },
    {
      "cell_type": "code",
      "source": "A=505\nB=22\nprint (A*B)",
      "metadata": {
        "trusted": true
      },
      "execution_count": 12,
      "outputs": [
        {
          "name": "stdout",
          "text": "11110\n",
          "output_type": "stream"
        }
      ]
    },
    {
      "cell_type": "code",
      "source": "minutes = 120  # replace with your desired number of minutes\nhours = minutes / 60\nprint(hours)\n",
      "metadata": {
        "trusted": true
      },
      "execution_count": 13,
      "outputs": [
        {
          "name": "stdout",
          "text": "2.0\n",
          "output_type": "stream"
        }
      ]
    },
    {
      "cell_type": "markdown",
      "source": "List Objectives<br>\n\n* one\n* two\n* three",
      "metadata": {}
    },
    {
      "cell_type": "code",
      "source": "",
      "metadata": {},
      "execution_count": null,
      "outputs": []
    }
  ]
}